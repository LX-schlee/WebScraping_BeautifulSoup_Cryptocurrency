{
 "cells": [
  {
   "cell_type": "markdown",
   "metadata": {},
   "source": [
    "### Imports"
   ]
  },
  {
   "cell_type": "code",
   "execution_count": 1,
   "metadata": {},
   "outputs": [],
   "source": [
    "from bs4 import BeautifulSoup\n",
    "import requests\n",
    "import pandas as pd "
   ]
  },
  {
   "cell_type": "markdown",
   "metadata": {},
   "source": [
    "### HTTP Request"
   ]
  },
  {
   "cell_type": "markdown",
   "metadata": {},
   "source": [
    "#### store website in variable"
   ]
  },
  {
   "cell_type": "code",
   "execution_count": 4,
   "metadata": {},
   "outputs": [],
   "source": [
    "ua = {\"User-Agent\":\"Mozilla/5.0 (Windows NT 10.0; Win64; x64) AppleWebKit/537.36 (KHTML, like Gecko) Chrome/92.0.4515.107 Safari/537.36 Edg/92.0.902.62\"}"
   ]
  },
  {
   "cell_type": "code",
   "execution_count": 16,
   "metadata": {},
   "outputs": [],
   "source": [
    "website = 'https://www.coingecko.com/en'"
   ]
  },
  {
   "cell_type": "markdown",
   "metadata": {},
   "source": [
    "#### Get Request"
   ]
  },
  {
   "cell_type": "code",
   "execution_count": 17,
   "metadata": {},
   "outputs": [],
   "source": [
    "response = requests.get(website)"
   ]
  },
  {
   "cell_type": "markdown",
   "metadata": {},
   "source": [
    "#### Status Code"
   ]
  },
  {
   "cell_type": "code",
   "execution_count": 18,
   "metadata": {},
   "outputs": [
    {
     "data": {
      "text/plain": [
       "200"
      ]
     },
     "execution_count": 18,
     "metadata": {},
     "output_type": "execute_result"
    }
   ],
   "source": [
    "response.status_code"
   ]
  },
  {
   "cell_type": "markdown",
   "metadata": {},
   "source": [
    "### Soup Object"
   ]
  },
  {
   "cell_type": "code",
   "execution_count": 18,
   "metadata": {},
   "outputs": [],
   "source": [
    "soup = BeautifulSoup(response.content, 'html.parser')"
   ]
  },
  {
   "cell_type": "markdown",
   "metadata": {},
   "source": [
    "### Results"
   ]
  },
  {
   "cell_type": "code",
   "execution_count": 34,
   "metadata": {},
   "outputs": [],
   "source": [
    "results = soup.find('table', {'class':'table-scrollable'}).find('tbody').find_all('tr')"
   ]
  },
  {
   "cell_type": "code",
   "execution_count": 36,
   "metadata": {},
   "outputs": [
    {
     "data": {
      "text/plain": [
       "100"
      ]
     },
     "execution_count": 36,
     "metadata": {},
     "output_type": "execute_result"
    }
   ],
   "source": [
    "len(results)"
   ]
  },
  {
   "cell_type": "code",
   "execution_count": 37,
   "metadata": {},
   "outputs": [
    {
     "data": {
      "text/plain": [
       "<tr>\n",
       "<td class=\"pl-1 pr-0\" style=\"width: 1px;\">\n",
       "<div class=\"dropdown-menu p-3 dropdown-popup dropdown-menu-content portfolios-dropdown\"></div>\n",
       "<i aria-expanded=\"false\" aria-haspopup=\"true\" class=\"far cursor-pointer fa-star\" data-action=\"click-&gt;favorites#trigger\" data-coin-id=\"1\" data-coin-image=\"https://assets.coingecko.com/coins/images/1/thumb/bitcoin.png?1547033579\" data-coin-slug=\"bitcoin\" data-coin-symbol=\"btc\" data-new-portfolio-button-label='&lt;span class=\"translation_missing\" title=\"translation missing: en.layouts.application.portfolio.add_to_new_portfolio\"&gt;Add To New Portfolio&lt;/span&gt;' data-new-portfolio-confirm-button=\"new-portfolio-form-confirm-button\" data-new-portfolio-confirm-modal=\"new-portfolio-form-modal\" data-price-btc=\"1.0\" data-removable=\"false\" data-source=\"star_button\" data-target=\"favorites.solidStar\" data-toast-success-hyperlink-text=\"Start your portfolio - Add a transaction!\" data-toast-success-message=\"BTC added to Portfolio\" data-toggle=\"dropdown\" data-unfavorite-coin-confirm-button=\"unfavorite-coin-confirm-button\" data-unfavorite-coin-confirm-modal=\"unfavorite-coin-confirm-modal\"></i>\n",
       "</td>\n",
       "<td class=\"table-number text-center text-xs\" style=\"min-width: 28px;\">\n",
       "1\n",
       "</td>\n",
       "<td class=\"py-0 coin-name\" data-sort=\"Bitcoin\">\n",
       "<div class=\"tw-flex\">\n",
       "<div class=\"coin-icon mr-2 center flex-column\">\n",
       "<img alt=\"bitcoin (BTC)\" class=\"lazy\" data-src=\"https://assets.coingecko.com/coins/images/1/thumb/bitcoin.png?1547033579\" data-srcset=\"https://assets.coingecko.com/coins/images/1/thumb_2x/bitcoin.png?1547033579 2x\" src=\"https://static.coingecko.com/s/missing_thumb-8e0db816ffd421c40794282644e1baa73e174b7b84f04c07e624691b2f42efc9.png\"/>\n",
       "</div>\n",
       "<div class=\"center\">\n",
       "<a class=\"tw-hidden lg:tw-flex font-bold tw-items-center tw-justify-between\" href=\"/en/coins/bitcoin\" style=\"width: 115px;\">\n",
       "Bitcoin\n",
       "</a> <a class=\"d-lg-none font-bold\" href=\"/en/coins/bitcoin\">\n",
       "BTC\n",
       "</a> <span class=\"tw-hidden d-lg-inline font-normal text-3xs ml-2\">\n",
       "BTC\n",
       "</span>\n",
       "<div id=\"token-btc-js\"></div>\n",
       "</div>\n",
       "</div>\n",
       "</td>\n",
       "<td class=\"td-price price text-right\" data-sort=\"34415.3625841283\" style=\"min-width: 106px;\">\n",
       "<span class=\"no-wrap\" data-coin-id=\"1\" data-coin-symbol=\"btc\" data-price-btc=\"1.0\" data-target=\"price.price\">$34,415</span>\n",
       "</td>\n",
       "<td class=\"td-change1h change1h stat-percent text-right col-market\" data-sort=\"-0.20387734592255327\">\n",
       "<span class=\"text-danger\" data-24h=\"false\" data-coin-id=\"1\" data-down-class=\"text-danger\" data-json='{\"aed\":-0.2098544631461347,\"ars\":-0.2047360682722867,\"aud\":-0.22401233272134705,\"bch\":0.22148487839653888,\"bdt\":-0.2038773459222905,\"bhd\":-0.20387734592240767,\"bmd\":-0.20387734592255327,\"bnb\":-0.11715967863382207,\"brl\":-0.20387734592270984,\"btc\":0.0,\"cad\":-0.20983558425259782,\"chf\":-0.20203312476245197,\"clp\":-0.20386922826521717,\"cny\":-0.2038773459226178,\"czk\":-0.22013600748376502,\"dkk\":-0.20607327136943665,\"dot\":0.6680041847314376,\"eos\":-0.22428642115123743,\"eth\":-0.26311782572622144,\"eur\":-0.20469965683820357,\"gbp\":-0.20387734592239512,\"hkd\":-0.18557355479509258,\"huf\":-0.20387734592253676,\"idr\":-0.2038773459224417,\"ils\":-0.20387734592204337,\"inr\":-0.20387734592213752,\"jpy\":-0.29773095312691283,\"krw\":-0.2038773459225379,\"kwd\":-0.2038773459226836,\"lkr\":-0.20387734592242865,\"ltc\":0.10373169503970073,\"mmk\":-0.20387734592248616,\"mxn\":-0.1414346456134899,\"myr\":-0.20387734592252563,\"ngn\":-0.20387734592221332,\"nok\":-0.15827492047397226,\"nzd\":-0.20951480570652187,\"php\":-0.23522402214723823,\"pkr\":-0.20387734592252665,\"pln\":-0.1481247482254958,\"rub\":-0.20387734592231463,\"sar\":-0.20387734592223344,\"sek\":-0.20387734592272813,\"sgd\":-0.2831958150130109,\"thb\":-0.26969874581172393,\"try\":-0.07504080120035989,\"twd\":-0.20387734592243978,\"uah\":-0.20387734592239767,\"usd\":-0.20387734592255327,\"vef\":-0.20387734592246304,\"vnd\":-0.2330926689812276,\"xag\":-0.2038773459227274,\"xau\":-0.20387734592251772,\"xdr\":-0.20387734592236056,\"xlm\":0.2495796481951552,\"xrp\":-0.2223771961521878,\"yfi\":-0.017501070981609926,\"zar\":-0.5709376403475028,\"bits\":-0.005344442897367379,\"link\":0.11009457571645388,\"sats\":-0.005344442897377154}' data-target=\"percent-change.percent\" data-up-class=\"text-green\">-0.2%</span>\n",
       "</td>\n",
       "<td class=\"td-change24h change24h stat-percent text-right col-market\" data-sort=\"0.4361945295234295\">\n",
       "<span class=\"text-green\" data-24h=\"true\" data-coin-id=\"1\" data-down-class=\"text-danger\" data-json='{\"aed\":0.43017907629568164,\"ars\":0.411334831675173,\"aud\":0.415930401046312,\"bch\":2.850961355819671,\"bdt\":0.43619452952352356,\"bhd\":0.3456404485805418,\"bmd\":0.4361945295234295,\"bnb\":1.9132873719762138,\"brl\":0.4361945295234221,\"btc\":0.0,\"cad\":0.43019807627378115,\"chf\":0.4486422924345943,\"clp\":0.4362026992458728,\"cny\":0.43619452952336707,\"czk\":0.41983158823937555,\"dkk\":0.43398451986038156,\"dot\":3.7011069279161695,\"eos\":2.144421918422372,\"eth\":1.0937064768147544,\"eur\":0.43536694447396984,\"gbp\":0.4361945295232829,\"hkd\":0.4546157174149674,\"huf\":0.4361945295239621,\"idr\":0.4361945295234903,\"ils\":0.33316888765236696,\"inr\":0.4361945295236605,\"jpy\":0.34173896451955965,\"krw\":0.4361945295232512,\"kwd\":0.436194529523446,\"lkr\":0.43619452952345544,\"ltc\":0.7799926050912227,\"mmk\":0.4361945295234015,\"mxn\":0.499037724513098,\"myr\":0.4361945295233537,\"ngn\":0.4361945295234389,\"nok\":0.4820894395814852,\"nzd\":0.4305209122277335,\"php\":0.4046468021423669,\"pkr\":0.4361945295233206,\"pln\":0.49230471295473405,\"rub\":0.4361945295235095,\"sar\":0.43619452952361115,\"sek\":0.43619452952312254,\"sgd\":0.35636732802989973,\"thb\":0.36995096466657473,\"try\":0.5658574054354667,\"twd\":0.3989034998340483,\"uah\":-0.2719950759177613,\"usd\":0.4361945295234295,\"vef\":0.4361945295233892,\"vnd\":0.4067918253707025,\"xag\":0.4361945295229543,\"xau\":0.4361945295237575,\"xdr\":0.43619452952341997,\"xlm\":4.231276654004488,\"xrp\":2.5910399588630577,\"yfi\":1.571286581106297,\"zar\":0.06677998560628173,\"bits\":0.08214430589883537,\"link\":1.7939010740646362,\"sats\":0.08214430589884236}' data-target=\"percent-change.percent\" data-up-class=\"text-green\">0.4%</span>\n",
       "</td>\n",
       "<td class=\"td-change7d change7d stat-percent text-right col-market\" data-sort=\"8.948433448501444\" style=\"width: 70px;\">\n",
       "<span class=\"text-green\" data-24h=\"false\" data-coin-id=\"1\" data-down-class=\"text-danger\" data-json='{\"aed\":8.947988518273307,\"ars\":9.087567734270129,\"aud\":9.443431569140806,\"bch\":7.298822800728577,\"bdt\":9.008476518980602,\"bhd\":8.885719916365062,\"bmd\":8.948433448501444,\"bnb\":9.923955879860966,\"brl\":10.825856333707286,\"btc\":0.0,\"cad\":8.474765258009793,\"chf\":9.066043276718394,\"clp\":9.582465312199966,\"cny\":8.985426681244038,\"czk\":9.751680672497598,\"dkk\":9.240017501894263,\"dot\":-0.06208470995495999,\"eos\":10.262180375805633,\"eth\":-4.008346924564397,\"eur\":9.263161648825736,\"gbp\":9.079205161373245,\"hkd\":8.992264164740067,\"huf\":9.440199048802638,\"idr\":8.820631613119872,\"ils\":8.316534389325257,\"inr\":8.674715673427016,\"jpy\":9.349426560733308,\"krw\":9.865793562089639,\"kwd\":9.01146176721685,\"lkr\":9.179345354691094,\"ltc\":4.468000250894785,\"mmk\":8.90565098389454,\"mxn\":9.920023491721745,\"myr\":9.38452222158377,\"ngn\":8.838983038911737,\"nok\":9.219417279669068,\"nzd\":9.35234416640525,\"php\":8.6991561942503,\"pkr\":9.827568885145025,\"pln\":9.116701595493618,\"rub\":8.643981678896447,\"sar\":8.958454200526774,\"sek\":9.080724774234879,\"sgd\":9.193912603736702,\"thb\":9.437663067978095,\"try\":9.50378540100281,\"twd\":9.14223529528769,\"uah\":8.181280153307855,\"usd\":8.948433448501444,\"vef\":8.948433448501332,\"vnd\":8.849983315803552,\"xag\":11.119307418504565,\"xau\":9.556587525420008,\"xdr\":9.122477931066255,\"xlm\":-0.7000238492527641,\"xrp\":6.498402302948502,\"yfi\":3.255310968789007,\"zar\":11.424511606567078,\"bits\":-0.007216519178698591,\"link\":1.9436450625013184,\"sats\":-0.007216519178686487}' data-target=\"percent-change.percent\" data-up-class=\"text-green\">8.9%</span>\n",
       "</td>\n",
       "<td class=\"td-liquidity_score lit text-right %&gt; col-market\" data-sort=\"579046.477801186\" style=\"width: 155px;\">\n",
       "<span class=\"no-wrap\" data-no-decimal=\"true\" data-price-btc=\"579046.477801186\" data-target=\"price.price\">$19,923,431,440</span>\n",
       "</td>\n",
       "<td class=\"td-market_cap cap col-market cap-price text-right\" data-sort=\"18766406.0\" style=\"width: 155px;\">\n",
       "<span class=\"no-wrap\" data-price-btc=\"18766406.0\" data-target=\"price.price\">$646,133,309,251</span>\n",
       "</td>\n",
       "<td class=\"p-0 pl-2 text-center\" style=\"width: 135px;\">\n",
       "<a href=\"/en/coins/bitcoin\">\n",
       "<img alt=\"bitcoin (BTC) 7d chart\" class=\"lazy\" data-src=\"https://www.coingecko.com/coins/1/sparkline\" data-srcset=\"https://www.coingecko.com/coins/1/sparkline 1x\" src=\"https://static.coingecko.com/s/blank-b1442e85b03bdcaf66dc58c7abb98745dd2687d86350be9a298a1d9382ac849b.gif\"/>\n",
       "</a> </td>\n",
       "</tr>"
      ]
     },
     "execution_count": 37,
     "metadata": {},
     "output_type": "execute_result"
    }
   ],
   "source": [
    "results[0]"
   ]
  },
  {
   "cell_type": "markdown",
   "metadata": {},
   "source": [
    "### Target necessary data"
   ]
  },
  {
   "cell_type": "code",
   "execution_count": 24,
   "metadata": {},
   "outputs": [],
   "source": [
    "# Name\n",
    "# Price\n",
    "# 24h Change\n",
    "# Market Cap\n",
    "# 24h Volume\n",
    "# Supply"
   ]
  },
  {
   "cell_type": "markdown",
   "metadata": {},
   "source": [
    "#### Name"
   ]
  },
  {
   "cell_type": "code",
   "execution_count": 56,
   "metadata": {},
   "outputs": [
    {
     "data": {
      "text/plain": [
       "'Ethereum'"
      ]
     },
     "execution_count": 56,
     "metadata": {},
     "output_type": "execute_result"
    }
   ],
   "source": [
    "results[0].find('a', {'class':'tw-hidden lg:tw-flex font-bold tw-items-center tw-justify-between'}).get_text().strip()"
   ]
  },
  {
   "cell_type": "markdown",
   "metadata": {},
   "source": [
    "#### Price"
   ]
  },
  {
   "cell_type": "code",
   "execution_count": 63,
   "metadata": {},
   "outputs": [
    {
     "data": {
      "text/plain": [
       "'$34,415'"
      ]
     },
     "execution_count": 63,
     "metadata": {},
     "output_type": "execute_result"
    }
   ],
   "source": [
    "results[0].find('td', {'class':'td-price'}).get_text().strip()"
   ]
  },
  {
   "cell_type": "markdown",
   "metadata": {},
   "source": [
    "#### 1h Change"
   ]
  },
  {
   "cell_type": "code",
   "execution_count": 49,
   "metadata": {},
   "outputs": [
    {
     "data": {
      "text/plain": [
       "'-0.2%'"
      ]
     },
     "execution_count": 49,
     "metadata": {},
     "output_type": "execute_result"
    }
   ],
   "source": [
    "results[0].find('td', {'class':'td-change1h'}).get_text().strip()"
   ]
  },
  {
   "cell_type": "markdown",
   "metadata": {},
   "source": [
    "#### 24h Change"
   ]
  },
  {
   "cell_type": "code",
   "execution_count": 50,
   "metadata": {},
   "outputs": [
    {
     "data": {
      "text/plain": [
       "'0.4%'"
      ]
     },
     "execution_count": 50,
     "metadata": {},
     "output_type": "execute_result"
    }
   ],
   "source": [
    "results[0].find('td', {'class':'td-change24h'}).get_text().strip()"
   ]
  },
  {
   "cell_type": "markdown",
   "metadata": {},
   "source": [
    "#### 7 day change"
   ]
  },
  {
   "cell_type": "code",
   "execution_count": 51,
   "metadata": {},
   "outputs": [
    {
     "data": {
      "text/plain": [
       "'8.9%'"
      ]
     },
     "execution_count": 51,
     "metadata": {},
     "output_type": "execute_result"
    }
   ],
   "source": [
    "results[0].find('td', {'class':'td-change7d'}).get_text().strip()"
   ]
  },
  {
   "cell_type": "markdown",
   "metadata": {},
   "source": [
    "#### 24h Volume"
   ]
  },
  {
   "cell_type": "code",
   "execution_count": 60,
   "metadata": {},
   "outputs": [
    {
     "data": {
      "text/plain": [
       "'$44,809,923,769'"
      ]
     },
     "execution_count": 60,
     "metadata": {},
     "output_type": "execute_result"
    }
   ],
   "source": [
    "results[2].find('td', {'class':'td-liquidity_score'}).get_text().strip()"
   ]
  },
  {
   "cell_type": "markdown",
   "metadata": {},
   "source": [
    "#### Market Cap"
   ]
  },
  {
   "cell_type": "code",
   "execution_count": 61,
   "metadata": {},
   "outputs": [
    {
     "data": {
      "text/plain": [
       "'$646,133,309,251'"
      ]
     },
     "execution_count": 61,
     "metadata": {},
     "output_type": "execute_result"
    }
   ],
   "source": [
    "results[0].find('td', {'class':'td-market_cap'}).get_text().strip()"
   ]
  },
  {
   "cell_type": "code",
   "execution_count": null,
   "metadata": {},
   "outputs": [],
   "source": []
  },
  {
   "cell_type": "markdown",
   "metadata": {},
   "source": [
    "### Put everything together inside a For-Loop"
   ]
  },
  {
   "cell_type": "code",
   "execution_count": 64,
   "metadata": {},
   "outputs": [],
   "source": [
    "name = []\n",
    "price = []\n",
    "change_1h = []\n",
    "change_24h = []\n",
    "change_7d = []\n",
    "volume_24h = []\n",
    "market_cap=[]\n",
    "\n",
    "for result in results:\n",
    "    \n",
    "    # name\n",
    "    try:\n",
    "        name.append(result.find('a', {'class':'tw-hidden lg:tw-flex font-bold tw-items-center tw-justify-between'}).get_text().strip()) \n",
    "    except:\n",
    "        name.append('n/a')\n",
    "    \n",
    "    # price\n",
    "    try:\n",
    "        price.append(result.find('td', {'class':'td-price'}).get_text().strip())\n",
    "    except:\n",
    "        price.append('n/a')\n",
    "    \n",
    "    # change_1h\n",
    "    try:\n",
    "        change_1h.append(result.find('td', {'class':'td-change1h'}).get_text().strip())\n",
    "    except:\n",
    "        change_1h.append('n/a')\n",
    "        \n",
    "    # change_24h\n",
    "    try:\n",
    "        change_24h.append(result.find('td', {'class':'td-change24h'}).get_text().strip())\n",
    "    except:\n",
    "        change_24h.append('n/a')\n",
    "    \n",
    "    # change_7d\n",
    "    try:\n",
    "        change_7d.append(result.find('td', {'class':'td-change7d'}).get_text().strip())\n",
    "    except:\n",
    "        change_7d.append('n/a')\n",
    "    \n",
    "    # volume_24h\n",
    "    try:\n",
    "        volume_24h.append(result.find('td', {'class':'td-liquidity_score'}).get_text().strip())\n",
    "    except:\n",
    "        volume_24h.append('n/a')\n",
    "    \n",
    "    # market_cap\n",
    "    try:\n",
    "        market_cap.append(result.find('td', {'class':'td-market_cap'}).get_text().strip())\n",
    "    except:\n",
    "        market_cap.append('n/a')"
   ]
  },
  {
   "cell_type": "markdown",
   "metadata": {},
   "source": [
    "### Create Pandas Dataframe"
   ]
  },
  {
   "cell_type": "code",
   "execution_count": 66,
   "metadata": {},
   "outputs": [],
   "source": [
    "# create dataframe\n",
    "crypto = pd.DataFrame({'Coin': name, 'Price':price, 'Change 1h':change_1h,\n",
    "                                'Change 24h': change_24h, 'Change 7d': change_7d, 'Volume 24h': volume_24h,\n",
    "                      'Market Cap': market_cap})"
   ]
  },
  {
   "cell_type": "code",
   "execution_count": 67,
   "metadata": {},
   "outputs": [
    {
     "data": {
      "text/html": [
       "<div>\n",
       "<style scoped>\n",
       "    .dataframe tbody tr th:only-of-type {\n",
       "        vertical-align: middle;\n",
       "    }\n",
       "\n",
       "    .dataframe tbody tr th {\n",
       "        vertical-align: top;\n",
       "    }\n",
       "\n",
       "    .dataframe thead th {\n",
       "        text-align: right;\n",
       "    }\n",
       "</style>\n",
       "<table border=\"1\" class=\"dataframe\">\n",
       "  <thead>\n",
       "    <tr style=\"text-align: right;\">\n",
       "      <th></th>\n",
       "      <th>Coin</th>\n",
       "      <th>Price</th>\n",
       "      <th>Change 1h</th>\n",
       "      <th>Change 24h</th>\n",
       "      <th>Change 7d</th>\n",
       "      <th>Volume 24h</th>\n",
       "      <th>Market Cap</th>\n",
       "    </tr>\n",
       "  </thead>\n",
       "  <tbody>\n",
       "    <tr>\n",
       "      <th>0</th>\n",
       "      <td>Bitcoin</td>\n",
       "      <td>$34,415</td>\n",
       "      <td>-0.2%</td>\n",
       "      <td>0.4%</td>\n",
       "      <td>8.9%</td>\n",
       "      <td>$19,923,431,440</td>\n",
       "      <td>$646,133,309,251</td>\n",
       "    </tr>\n",
       "    <tr>\n",
       "      <th>1</th>\n",
       "      <td>Ethereum</td>\n",
       "      <td>$2,157.14</td>\n",
       "      <td>-0.1%</td>\n",
       "      <td>-0.7%</td>\n",
       "      <td>13.5%</td>\n",
       "      <td>$17,054,176,517</td>\n",
       "      <td>$252,317,274,122</td>\n",
       "    </tr>\n",
       "    <tr>\n",
       "      <th>2</th>\n",
       "      <td>Tether</td>\n",
       "      <td>$1.00</td>\n",
       "      <td>-0.1%</td>\n",
       "      <td>0.1%</td>\n",
       "      <td>-0.1%</td>\n",
       "      <td>$44,809,923,769</td>\n",
       "      <td>$62,107,519,381</td>\n",
       "    </tr>\n",
       "    <tr>\n",
       "      <th>3</th>\n",
       "      <td>Binance Coin</td>\n",
       "      <td>$298.25</td>\n",
       "      <td>-0.1%</td>\n",
       "      <td>-1.4%</td>\n",
       "      <td>-0.9%</td>\n",
       "      <td>$1,207,577,404</td>\n",
       "      <td>$46,143,033,202</td>\n",
       "    </tr>\n",
       "    <tr>\n",
       "      <th>4</th>\n",
       "      <td>Cardano</td>\n",
       "      <td>$1.21</td>\n",
       "      <td>-0.3%</td>\n",
       "      <td>-2.3%</td>\n",
       "      <td>2.5%</td>\n",
       "      <td>$1,056,668,240</td>\n",
       "      <td>$38,789,934,906</td>\n",
       "    </tr>\n",
       "    <tr>\n",
       "      <th>...</th>\n",
       "      <td>...</td>\n",
       "      <td>...</td>\n",
       "      <td>...</td>\n",
       "      <td>...</td>\n",
       "      <td>...</td>\n",
       "      <td>...</td>\n",
       "      <td>...</td>\n",
       "    </tr>\n",
       "    <tr>\n",
       "      <th>95</th>\n",
       "      <td>Qtum</td>\n",
       "      <td>$6.05</td>\n",
       "      <td>-0.1%</td>\n",
       "      <td>-2.2%</td>\n",
       "      <td>8.5%</td>\n",
       "      <td>$133,809,712</td>\n",
       "      <td>$629,069,781</td>\n",
       "    </tr>\n",
       "    <tr>\n",
       "      <th>96</th>\n",
       "      <td>DigiByte</td>\n",
       "      <td>$0.043074874589</td>\n",
       "      <td>-0.5%</td>\n",
       "      <td>4.5%</td>\n",
       "      <td>13.1%</td>\n",
       "      <td>$59,957,898</td>\n",
       "      <td>$622,867,749</td>\n",
       "    </tr>\n",
       "    <tr>\n",
       "      <th>97</th>\n",
       "      <td>cUSDT</td>\n",
       "      <td>$0.021277606546</td>\n",
       "      <td>-0.0%</td>\n",
       "      <td>-0.0%</td>\n",
       "      <td>0.0%</td>\n",
       "      <td>$611,923</td>\n",
       "      <td>$614,123,888</td>\n",
       "    </tr>\n",
       "    <tr>\n",
       "      <th>98</th>\n",
       "      <td>Ontology</td>\n",
       "      <td>$0.655504</td>\n",
       "      <td>-0.0%</td>\n",
       "      <td>-1.1%</td>\n",
       "      <td>3.1%</td>\n",
       "      <td>$124,579,120</td>\n",
       "      <td>$575,282,501</td>\n",
       "    </tr>\n",
       "    <tr>\n",
       "      <th>99</th>\n",
       "      <td>Nexus Mutual</td>\n",
       "      <td>$82.52</td>\n",
       "      <td>-0.0%</td>\n",
       "      <td>-1.2%</td>\n",
       "      <td>13.1%</td>\n",
       "      <td>$1,604.18</td>\n",
       "      <td>$569,684,257</td>\n",
       "    </tr>\n",
       "  </tbody>\n",
       "</table>\n",
       "<p>100 rows × 7 columns</p>\n",
       "</div>"
      ],
      "text/plain": [
       "            Coin            Price Change 1h Change 24h Change 7d  \\\n",
       "0        Bitcoin          $34,415     -0.2%       0.4%      8.9%   \n",
       "1       Ethereum        $2,157.14     -0.1%      -0.7%     13.5%   \n",
       "2         Tether            $1.00     -0.1%       0.1%     -0.1%   \n",
       "3   Binance Coin          $298.25     -0.1%      -1.4%     -0.9%   \n",
       "4        Cardano            $1.21     -0.3%      -2.3%      2.5%   \n",
       "..           ...              ...       ...        ...       ...   \n",
       "95          Qtum            $6.05     -0.1%      -2.2%      8.5%   \n",
       "96      DigiByte  $0.043074874589     -0.5%       4.5%     13.1%   \n",
       "97         cUSDT  $0.021277606546     -0.0%      -0.0%      0.0%   \n",
       "98      Ontology        $0.655504     -0.0%      -1.1%      3.1%   \n",
       "99  Nexus Mutual           $82.52     -0.0%      -1.2%     13.1%   \n",
       "\n",
       "         Volume 24h        Market Cap  \n",
       "0   $19,923,431,440  $646,133,309,251  \n",
       "1   $17,054,176,517  $252,317,274,122  \n",
       "2   $44,809,923,769   $62,107,519,381  \n",
       "3    $1,207,577,404   $46,143,033,202  \n",
       "4    $1,056,668,240   $38,789,934,906  \n",
       "..              ...               ...  \n",
       "95     $133,809,712      $629,069,781  \n",
       "96      $59,957,898      $622,867,749  \n",
       "97         $611,923      $614,123,888  \n",
       "98     $124,579,120      $575,282,501  \n",
       "99        $1,604.18      $569,684,257  \n",
       "\n",
       "[100 rows x 7 columns]"
      ]
     },
     "execution_count": 67,
     "metadata": {},
     "output_type": "execute_result"
    }
   ],
   "source": [
    "# output dataframe\n",
    "crypto"
   ]
  },
  {
   "cell_type": "code",
   "execution_count": null,
   "metadata": {},
   "outputs": [],
   "source": []
  },
  {
   "cell_type": "markdown",
   "metadata": {},
   "source": [
    "### Output in Excel"
   ]
  },
  {
   "cell_type": "code",
   "execution_count": 69,
   "metadata": {},
   "outputs": [],
   "source": [
    "crypto.to_excel('coingecko.com_single.xlsx', index=False)"
   ]
  },
  {
   "cell_type": "code",
   "execution_count": null,
   "metadata": {},
   "outputs": [],
   "source": []
  },
  {
   "cell_type": "markdown",
   "metadata": {},
   "source": [
    "### Part 2 - Pagination - Scrape 20 Pages"
   ]
  },
  {
   "cell_type": "code",
   "execution_count": 70,
   "metadata": {},
   "outputs": [
    {
     "name": "stdout",
     "output_type": "stream",
     "text": [
      "1\n",
      "2\n",
      "3\n",
      "4\n",
      "5\n",
      "6\n",
      "7\n",
      "8\n",
      "9\n",
      "10\n"
     ]
    }
   ],
   "source": [
    "name = []\n",
    "price = []\n",
    "change_1h = []\n",
    "change_24h = []\n",
    "change_7d = []\n",
    "volume_24h = []\n",
    "market_cap=[]\n",
    "\n",
    "for i in range(1,11):\n",
    "    print(i)\n",
    "    \n",
    "    #website \n",
    "    website ='https://www.coingecko.com/en?page='+str(i)\n",
    "\n",
    "    # request to website\n",
    "    response = requests.get(website)\n",
    "    \n",
    "    # soup object\n",
    "    soup = BeautifulSoup(response.content, 'html.parser')\n",
    "    \n",
    "    # results\n",
    "    results = soup.find('table', {'class':'table-scrollable'}).find('tbody').find_all('tr')\n",
    "    \n",
    "    for result in results:\n",
    "    \n",
    "        # name\n",
    "        try:\n",
    "            name.append(result.find('a', {'class':'tw-hidden lg:tw-flex font-bold tw-items-center tw-justify-between'}).get_text().strip()) \n",
    "        except:\n",
    "            name.append('n/a')\n",
    "\n",
    "        # price\n",
    "        try:\n",
    "            price.append(result.find('td', {'class':'td-price'}).get_text().strip())\n",
    "        except:\n",
    "            price.append('n/a')\n",
    "\n",
    "        # change_1h\n",
    "        try:\n",
    "            change_1h.append(result.find('td', {'class':'td-change1h'}).get_text().strip())\n",
    "        except:\n",
    "            change_1h.append('n/a')\n",
    "\n",
    "        # change_24h\n",
    "        try:\n",
    "            change_24h.append(result.find('td', {'class':'td-change24h'}).get_text().strip())\n",
    "        except:\n",
    "            change_24h.append('n/a')\n",
    "\n",
    "        # change_7d\n",
    "        try:\n",
    "            change_7d.append(result.find('td', {'class':'td-change7d'}).get_text().strip())\n",
    "        except:\n",
    "            change_7d.append('n/a')\n",
    "\n",
    "        # volume_24h\n",
    "        try:\n",
    "            volume_24h.append(result.find('td', {'class':'td-liquidity_score'}).get_text().strip())\n",
    "        except:\n",
    "            volume_24h.append('n/a')\n",
    "\n",
    "        # market_cap\n",
    "        try:\n",
    "            market_cap.append(result.find('td', {'class':'td-market_cap'}).get_text().strip())\n",
    "        except:\n",
    "            market_cap.append('n/a')\n",
    "\n"
   ]
  },
  {
   "cell_type": "code",
   "execution_count": 73,
   "metadata": {},
   "outputs": [],
   "source": [
    "# create dataframe\n",
    "crypto = pd.DataFrame({'Coin': name, 'Price':price, 'Change 1h':change_1h,'Change 24h': change_24h,\n",
    "                       'Change 7d': change_7d, 'Volume 24h': volume_24h,'Market Cap': market_cap})"
   ]
  },
  {
   "cell_type": "code",
   "execution_count": 74,
   "metadata": {},
   "outputs": [
    {
     "data": {
      "text/html": [
       "<div>\n",
       "<style scoped>\n",
       "    .dataframe tbody tr th:only-of-type {\n",
       "        vertical-align: middle;\n",
       "    }\n",
       "\n",
       "    .dataframe tbody tr th {\n",
       "        vertical-align: top;\n",
       "    }\n",
       "\n",
       "    .dataframe thead th {\n",
       "        text-align: right;\n",
       "    }\n",
       "</style>\n",
       "<table border=\"1\" class=\"dataframe\">\n",
       "  <thead>\n",
       "    <tr style=\"text-align: right;\">\n",
       "      <th></th>\n",
       "      <th>Coin</th>\n",
       "      <th>Price</th>\n",
       "      <th>Change 1h</th>\n",
       "      <th>Change 24h</th>\n",
       "      <th>Change 7d</th>\n",
       "      <th>Volume 24h</th>\n",
       "      <th>Market Cap</th>\n",
       "    </tr>\n",
       "  </thead>\n",
       "  <tbody>\n",
       "    <tr>\n",
       "      <th>0</th>\n",
       "      <td>Bitcoin</td>\n",
       "      <td>$34,454</td>\n",
       "      <td>0.1%</td>\n",
       "      <td>1.8%</td>\n",
       "      <td>9.1%</td>\n",
       "      <td>$20,040,397,625</td>\n",
       "      <td>$648,317,038,359</td>\n",
       "    </tr>\n",
       "    <tr>\n",
       "      <th>1</th>\n",
       "      <td>Ethereum</td>\n",
       "      <td>$2,157.11</td>\n",
       "      <td>-0.1%</td>\n",
       "      <td>0.5%</td>\n",
       "      <td>13.5%</td>\n",
       "      <td>$16,933,204,721</td>\n",
       "      <td>$252,573,835,771</td>\n",
       "    </tr>\n",
       "    <tr>\n",
       "      <th>2</th>\n",
       "      <td>Tether</td>\n",
       "      <td>$1.00</td>\n",
       "      <td>-0.1%</td>\n",
       "      <td>0.1%</td>\n",
       "      <td>-0.1%</td>\n",
       "      <td>$44,809,923,769</td>\n",
       "      <td>$62,070,865,680</td>\n",
       "    </tr>\n",
       "    <tr>\n",
       "      <th>3</th>\n",
       "      <td>Binance Coin</td>\n",
       "      <td>$298.82</td>\n",
       "      <td>0.1%</td>\n",
       "      <td>-0.1%</td>\n",
       "      <td>-0.7%</td>\n",
       "      <td>$1,239,499,254</td>\n",
       "      <td>$46,270,053,089</td>\n",
       "    </tr>\n",
       "    <tr>\n",
       "      <th>4</th>\n",
       "      <td>Cardano</td>\n",
       "      <td>$1.21</td>\n",
       "      <td>0.0%</td>\n",
       "      <td>-0.9%</td>\n",
       "      <td>2.7%</td>\n",
       "      <td>$1,130,478,681</td>\n",
       "      <td>$38,796,497,456</td>\n",
       "    </tr>\n",
       "    <tr>\n",
       "      <th>...</th>\n",
       "      <td>...</td>\n",
       "      <td>...</td>\n",
       "      <td>...</td>\n",
       "      <td>...</td>\n",
       "      <td>...</td>\n",
       "      <td>...</td>\n",
       "      <td>...</td>\n",
       "    </tr>\n",
       "    <tr>\n",
       "      <th>995</th>\n",
       "      <td>Value DeFi</td>\n",
       "      <td>$1.42</td>\n",
       "      <td>-0.6%</td>\n",
       "      <td>1.5%</td>\n",
       "      <td>2.4%</td>\n",
       "      <td>$3,323,860</td>\n",
       "      <td>$6,852,449</td>\n",
       "    </tr>\n",
       "    <tr>\n",
       "      <th>996</th>\n",
       "      <td>Gameswap</td>\n",
       "      <td>$0.781502</td>\n",
       "      <td>-0.2%</td>\n",
       "      <td>-31.7%</td>\n",
       "      <td>205.4%</td>\n",
       "      <td>$1,317,245</td>\n",
       "      <td>$6,846,385</td>\n",
       "    </tr>\n",
       "    <tr>\n",
       "      <th>997</th>\n",
       "      <td>Pickle Finance</td>\n",
       "      <td>$7.12</td>\n",
       "      <td>-0.5%</td>\n",
       "      <td>-9.3%</td>\n",
       "      <td>6.0%</td>\n",
       "      <td>$2,593,817</td>\n",
       "      <td>$6,795,140</td>\n",
       "    </tr>\n",
       "    <tr>\n",
       "      <th>998</th>\n",
       "      <td>Hodl Token</td>\n",
       "      <td>$0.000000028204</td>\n",
       "      <td>-0.8%</td>\n",
       "      <td>0.4%</td>\n",
       "      <td>124.0%</td>\n",
       "      <td>$488,892</td>\n",
       "      <td>$6,788,257</td>\n",
       "    </tr>\n",
       "    <tr>\n",
       "      <th>999</th>\n",
       "      <td>SingularDTV</td>\n",
       "      <td>$0.007926779652</td>\n",
       "      <td>4.5%</td>\n",
       "      <td>1.2%</td>\n",
       "      <td>0.3%</td>\n",
       "      <td>$30,798</td>\n",
       "      <td>$6,760,398</td>\n",
       "    </tr>\n",
       "  </tbody>\n",
       "</table>\n",
       "<p>1000 rows × 7 columns</p>\n",
       "</div>"
      ],
      "text/plain": [
       "               Coin            Price Change 1h Change 24h Change 7d  \\\n",
       "0           Bitcoin          $34,454      0.1%       1.8%      9.1%   \n",
       "1          Ethereum        $2,157.11     -0.1%       0.5%     13.5%   \n",
       "2            Tether            $1.00     -0.1%       0.1%     -0.1%   \n",
       "3      Binance Coin          $298.82      0.1%      -0.1%     -0.7%   \n",
       "4           Cardano            $1.21      0.0%      -0.9%      2.7%   \n",
       "..              ...              ...       ...        ...       ...   \n",
       "995      Value DeFi            $1.42     -0.6%       1.5%      2.4%   \n",
       "996        Gameswap        $0.781502     -0.2%     -31.7%    205.4%   \n",
       "997  Pickle Finance            $7.12     -0.5%      -9.3%      6.0%   \n",
       "998      Hodl Token  $0.000000028204     -0.8%       0.4%    124.0%   \n",
       "999     SingularDTV  $0.007926779652      4.5%       1.2%      0.3%   \n",
       "\n",
       "          Volume 24h        Market Cap  \n",
       "0    $20,040,397,625  $648,317,038,359  \n",
       "1    $16,933,204,721  $252,573,835,771  \n",
       "2    $44,809,923,769   $62,070,865,680  \n",
       "3     $1,239,499,254   $46,270,053,089  \n",
       "4     $1,130,478,681   $38,796,497,456  \n",
       "..               ...               ...  \n",
       "995       $3,323,860        $6,852,449  \n",
       "996       $1,317,245        $6,846,385  \n",
       "997       $2,593,817        $6,795,140  \n",
       "998         $488,892        $6,788,257  \n",
       "999          $30,798        $6,760,398  \n",
       "\n",
       "[1000 rows x 7 columns]"
      ]
     },
     "execution_count": 74,
     "metadata": {},
     "output_type": "execute_result"
    }
   ],
   "source": [
    "# output dataframe\n",
    "crypto "
   ]
  },
  {
   "cell_type": "code",
   "execution_count": 75,
   "metadata": {},
   "outputs": [],
   "source": [
    "crypto.to_excel('crypto_multiple_page.xlsx', index=False)"
   ]
  }
 ],
 "metadata": {
  "kernelspec": {
   "display_name": "Python 3",
   "language": "python",
   "name": "python3"
  },
  "language_info": {
   "codemirror_mode": {
    "name": "ipython",
    "version": 3
   },
   "file_extension": ".py",
   "mimetype": "text/x-python",
   "name": "python",
   "nbconvert_exporter": "python",
   "pygments_lexer": "ipython3",
   "version": "3.9.2"
  }
 },
 "nbformat": 4,
 "nbformat_minor": 4
}
